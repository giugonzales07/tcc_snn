{
 "cells": [
  {
   "cell_type": "code",
   "execution_count": 3,
   "id": "de213618",
   "metadata": {},
   "outputs": [],
   "source": [
    "# Imports\n",
    "import os\n",
    "import random\n",
    "from glob import glob\n",
    "import cv2 \n",
    "import matplotlib.pylab as plt\n",
    "import seaborn as sns\n",
    "import pandas as pd\n",
    "import numpy as np\n",
    "\n",
    "import torch\n",
    "import torch.nn as nn\n",
    "from torch.utils.data import DataLoader, Dataset\n",
    "from torchvision import datasets, transforms\n",
    "\n",
    "from sklearn.model_selection import train_test_split\n",
    "from sklearn.metrics import precision_recall_fscore_support, confusion_matrix\n",
    "\n",
    "import argparse\n",
    "#import torch\n",
    "#import torch.nn as nn\n",
    "import torch.nn.functional as F\n",
    "import torch.optim as optim\n",
    "#from torchvision import datasets, transforms\n",
    "from torch.optim.lr_scheduler import StepLR\n",
    "\n",
    "from collections import Counter"
   ]
  },
  {
   "cell_type": "code",
   "execution_count": null,
   "id": "7f3dee4f",
   "metadata": {},
   "outputs": [
    {
     "name": "stdout",
     "output_type": "stream",
     "text": [
      "(3807, 128, 128, 3)\n",
      "(3807,)\n",
      "(3045, 128, 128, 3)\n",
      "(381, 128, 128, 3)\n",
      "(381, 128, 128, 3)\n",
      "torch.Size([1, 128, 128]) 0\n",
      "3045\n",
      "381\n",
      "381\n",
      "Distribuição de classes no conjunto de treino (antes do SMOTE):\n",
      "Counter({np.int64(0): 2435, np.int64(2): 402, np.int64(1): 208})\n"
     ]
    },
    {
     "name": "stderr",
     "output_type": "stream",
     "text": [
      "c:\\Users\\giueg\\.virtualenvs\\TCC_25-OGy0qkdu\\Lib\\site-packages\\torchvision\\models\\_utils.py:208: UserWarning: The parameter 'pretrained' is deprecated since 0.13 and may be removed in the future, please use 'weights' instead.\n",
      "  warnings.warn(\n",
      "c:\\Users\\giueg\\.virtualenvs\\TCC_25-OGy0qkdu\\Lib\\site-packages\\torchvision\\models\\_utils.py:223: UserWarning: Arguments other than a weight enum or `None` for 'weights' are deprecated since 0.13 and may be removed in the future. The current behavior is equivalent to passing `weights=ResNet18_Weights.IMAGENET1K_V1`. You can also use `weights=ResNet18_Weights.DEFAULT` to get the most up-to-date weights.\n",
      "  warnings.warn(msg)\n"
     ]
    },
    {
     "name": "stdout",
     "output_type": "stream",
     "text": [
      "Distribuição de classes no conjunto de treino (após o SMOTE):\n",
      "Counter({np.int64(0): 2435, np.int64(2): 2435, np.int64(1): 2435})\n",
      "Tamanho do dataset de treino balanceado: 7305 imagens\n"
     ]
    }
   ],
   "source": [
    "import numpy as np\n",
    "import torch\n",
    "import torchvision.models as models\n",
    "from sklearn.preprocessing import StandardScaler\n",
    "from imblearn.over_sampling import SMOTE\n",
    "from torch.utils.data import Dataset, DataLoader\n",
    "from torchvision import transforms\n",
    "from sklearn.model_selection import train_test_split\n",
    "from collections import Counter\n",
    "\n",
    "class CustomImageDataset(Dataset):\n",
    "    def __init__(self, images, labels, transform=None):\n",
    "        self.images = images\n",
    "        self.labels = labels\n",
    "        self.transform = transform\n",
    "\n",
    "    def __len__(self):\n",
    "        return len(self.images)\n",
    "\n",
    "    def __getitem__(self, idx):\n",
    "        img = self.images[idx].astype(np.uint8)\n",
    "        label = self.labels[idx]\n",
    "        if self.transform:\n",
    "            img = self.transform(img)\n",
    "        return img, label\n",
    "\n",
    "# Load the data(images)\n",
    "x_npz = np.load(\"data/x_images_arrays.npz\")\n",
    "X = x_npz[\"arr_0\"]\n",
    "y_npz = np.load(\"data/y_labels_arrays.npz\")\n",
    "Y = y_npz[\"arr_0\"]\n",
    "\n",
    "print(np.array(X).shape)\n",
    "print(np.array(Y).shape)\n",
    "\n",
    "# Separete the data into train, val and test sets\n",
    "# 80% train, 10% val, 10% test\n",
    "x_train, x_temp, y_train, y_temp = train_test_split(X, Y, test_size=0.2,random_state=1, stratify=Y)\n",
    "\n",
    "x_test, x_val, y_test, y_val = train_test_split(x_temp, y_temp, test_size=0.5, random_state=1, stratify=y_temp)\n",
    "\n",
    "print(np.array(x_train).shape)\n",
    "print(np.array(x_val).shape)\n",
    "print(np.array(x_test).shape)\n",
    "# (3045, 128, 128, 3) \n",
    "# (381, 128, 128, 3)\n",
    "# (381, 128, 128, 3)\n",
    "\n",
    "# Transform the data to tensor\n",
    "# Define a transform\n",
    "transform = transforms.Compose([\n",
    "            #transforms.Resize((28, 28)),\n",
    "            transforms.ToPILImage(),\n",
    "            transforms.Grayscale(),\n",
    "            transforms.ToTensor(),\n",
    "            transforms.Normalize((0,), (1,))])\n",
    "\n",
    "# Apply the transform to the data\n",
    "dataset_train = CustomImageDataset(x_train, y_train, transform=transform)\n",
    "dataset_val = CustomImageDataset(x_val, y_val, transform=transform)\n",
    "dataset_test = CustomImageDataset(x_val, y_val, transform=transform)\n",
    "\n",
    "img, label = dataset_train[0]\n",
    "print(img.shape, label) # [grayscale=1, size=128, size=128] label=0 ('Nothing')\n",
    "print(dataset_train.__len__()) # 3045 images\n",
    "print(dataset_val.__len__()) # 381 images\n",
    "print(dataset_test.__len__()) # 381 images\n",
    "\n",
    "\n",
    "# Verificar a distribuição de classes antes do SMOTE\n",
    "print(\"Distribuição de classes no conjunto de treino (antes do SMOTE):\")\n",
    "print(Counter(y_train))\n",
    "\n",
    "# Extrair features com ResNet18\n",
    "model = models.resnet18(pretrained=True)\n",
    "model.eval()\n",
    "model.conv1 = torch.nn.Conv2d(1, 64, kernel_size=7, stride=2, padding=3, bias=False)\n",
    "model = torch.nn.Sequential(*list(model.children())[:-1])  # Remove a última camada\n",
    "features = []\n",
    "labels = []\n",
    "with torch.no_grad():\n",
    "    for img, label in dataset_train:\n",
    "        img = img.unsqueeze(0)  # Adiciona dimensão de batch\n",
    "        feature = model(img).flatten().numpy()\n",
    "        features.append(feature)\n",
    "        labels.append(label)\n",
    "features = np.array(features)\n",
    "labels = np.array(labels)\n",
    "\n",
    "# Normalizar features\n",
    "scaler = StandardScaler()\n",
    "features = scaler.fit_transform(features)\n",
    "\n",
    "# Aplicar SMOTE\n",
    "smote = SMOTE(random_state=42)\n",
    "features_resampled, labels_resampled = smote.fit_resample(features, labels)\n",
    "\n",
    "# Verificar a distribuição de classes após o SMOTE\n",
    "print(\"Distribuição de classes no conjunto de treino (após o SMOTE):\")\n",
    "print(Counter(labels_resampled))\n",
    "\n",
    "# Mapear features resampleadas para imagens originais\n",
    "# Como SMOTE gera features sintéticas, usamos as imagens originais mais próximas\n",
    "from sklearn.neighbors import NearestNeighbors\n",
    "\n",
    "# Ajustar NearestNeighbors para encontrar as imagens originais mais próximas\n",
    "nn = NearestNeighbors(n_neighbors=1)\n",
    "nn.fit(features)  # Usar as features originais\n",
    "_, indices = nn.kneighbors(features_resampled)  # Encontrar o índice da imagem original mais próxima\n",
    "indices = indices.flatten()\n",
    "\n",
    "# Criar novas listas de imagens e labels balanceadas\n",
    "x_train_resampled = x_train[indices]  # Selecionar imagens originais correspondentes\n",
    "y_train_resampled = labels_resampled  # Usar as labels geradas pelo SMOTE\n",
    "\n",
    "# Criar novo dataset balanceado\n",
    "dataset_train_resampled = CustomImageDataset(x_train_resampled, y_train_resampled, transform=transform)\n",
    "\n",
    "# Criar DataLoader com o dataset balanceado\n",
    "batch_size = 32\n",
    "train_loader = DataLoader(dataset_train_resampled, batch_size=batch_size, shuffle=True)\n",
    "val_loader = DataLoader(dataset_val, batch_size=batch_size, shuffle=True)\n",
    "test_loader = DataLoader(dataset_test, batch_size=batch_size, shuffle=True)\n",
    "\n",
    "\n",
    "# Verificar o tamanho do novo dataset\n",
    "print(f\"Tamanho do dataset de treino balanceado: {len(dataset_train_resampled)} imagens\")"
   ]
  },
  {
   "cell_type": "code",
   "execution_count": 6,
   "id": "0359d330",
   "metadata": {},
   "outputs": [],
   "source": [
    "# Salvar os dados balanceados em um arquivo .npz\n",
    "np.savez('data/train_resampled.npz', images=x_train_resampled, labels=y_train_resampled)"
   ]
  },
  {
   "cell_type": "code",
   "execution_count": 4,
   "id": "57207b51",
   "metadata": {},
   "outputs": [
    {
     "name": "stdout",
     "output_type": "stream",
     "text": [
      "Distribuição de classes no conjunto de treino carregado:\n",
      "Counter({np.int64(0): 2435, np.int64(2): 2435, np.int64(1): 2435})\n"
     ]
    }
   ],
   "source": [
    "# Carregar os dados balanceados\n",
    "data_resampled = np.load('data/train_resampled.npz')\n",
    "x_train_resampled = data_resampled['images']\n",
    "y_train_resampled = data_resampled['labels']\n",
    "\n",
    "# Verificar a distribuição de classes\n",
    "from collections import Counter\n",
    "print(\"Distribuição de classes no conjunto de treino carregado:\")\n",
    "print(Counter(y_train_resampled))"
   ]
  },
  {
   "cell_type": "code",
   "execution_count": null,
   "id": "28b53105",
   "metadata": {},
   "outputs": [
    {
     "name": "stdout",
     "output_type": "stream",
     "text": [
      "       label  values\n",
      "0    Nothing    2435\n",
      "1  Infection    2435\n",
      "2  Neoplasia    2435\n"
     ]
    }
   ],
   "source": [
    "dictionary_labels = {0: 'Nothing', 1: 'Neoplasia', 2: 'Infection'}\n",
    "df_counter_train = pd.DataFrame(Counter(y_train_resampled).items(), columns=['label', 'values'])\n",
    "df_counter_train['label'] = df_counter_train['label'].map(dictionary_labels)\n",
    "df_counter_train = df_counter_train.sort_values(by='values', ascending=False)\n",
    "print(df_counter_train)"
   ]
  },
  {
   "cell_type": "code",
   "execution_count": 7,
   "id": "a5b2af42",
   "metadata": {},
   "outputs": [
    {
     "data": {
      "image/png": "[encoded data removed]",
      "text/plain": [
       "<Figure size 640x480 with 1 Axes>"
      ]
     },
     "metadata": {},
     "output_type": "display_data"
    }
   ],
   "source": [
    "df_counter_train.plot(kind='bar', x='label', y='values', title='Distribuição de classes no conjunto de treino')\n",
    "plt.xlabel('Diagnóstico')\n",
    "plt.ylabel('Número de imagens')\n",
    "plt.xticks(rotation=0)\n",
    "#coloca valor na coluna\n",
    "for index, value in enumerate(df_counter_train['values']):\n",
    "    plt.text(index, value, str(value), ha='center', va='bottom')"
   ]
  }
 ],
 "metadata": {
  "kernelspec": {
   "display_name": "TCC_25-OGy0qkdu",
   "language": "python",
   "name": "python3"
  },
  "language_info": {
   "codemirror_mode": {
    "name": "ipython",
    "version": 3
   },
   "file_extension": ".py",
   "mimetype": "text/x-python",
   "name": "python",
   "nbconvert_exporter": "python",
   "pygments_lexer": "ipython3",
   "version": "3.11.0"
  }
 },
 "nbformat": 4,
 "nbformat_minor": 5
}
