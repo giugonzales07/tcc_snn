{
 "cells": [
  {
   "cell_type": "code",
   "execution_count": 1,
   "id": "43728e25",
   "metadata": {},
   "outputs": [],
   "source": [
    "# Imports\n",
    "# pip install kagglehub[pandas-datasets]\n",
    "#import kagglehub\n",
    "#from kagglehub import KaggleDatasetAdapter\n",
    "import os\n",
    "import random\n",
    "from glob import glob\n",
    "import cv2 \n",
    "import matplotlib.pylab as plt\n",
    "import seaborn as sns\n",
    "import pandas as pd\n",
    "import numpy as np\n",
    "\n",
    "\n",
    "import snntorch as snn\n",
    "from snntorch import spikeplot as splt\n",
    "from snntorch import spikegen\n",
    "\n",
    "import torch\n",
    "import torch.nn as nn\n",
    "from torch.utils.data import DataLoader, Dataset\n",
    "from torchvision import datasets, transforms\n",
    "\n",
    "from sklearn.model_selection import train_test_split\n",
    "from sklearn.metrics import precision_recall_fscore_support, confusion_matrix\n",
    "\n",
    "import argparse\n",
    "#import torch\n",
    "#import torch.nn as nn\n",
    "import torch.nn.functional as F\n",
    "import torch.optim as optim\n",
    "#from torchvision import datasets, transforms\n",
    "from torch.optim.lr_scheduler import StepLR\n",
    "from collections import Counter"
   ]
  },
  {
   "cell_type": "markdown",
   "id": "b23c05c1",
   "metadata": {},
   "source": [
    "# DATA"
   ]
  },
  {
   "cell_type": "code",
   "execution_count": 2,
   "id": "4fe261e1",
   "metadata": {},
   "outputs": [
    {
     "name": "stdout",
     "output_type": "stream",
     "text": [
      "x =  (3807, 128, 128, 3)\n",
      "Y =  (3807,)\n",
      "\n",
      "Forma dos dados de treino: (1012, 128, 128, 3)\n",
      "Distribuição train antes: Counter({np.int64(2): 402, np.int64(0): 402, np.int64(1): 208})\n",
      "Forma dos dados de teste: (762, 128, 128, 3)\n",
      "Distribuição test antes: Counter({np.int64(0): 609, np.int64(2): 101, np.int64(1): 52})\n",
      "\n",
      "Forma do img e label: torch.Size([1, 128, 128]) 1\n",
      "Quantidade dados de treino: 1012\n",
      "Quantidade dados de teste: 762\n"
     ]
    }
   ],
   "source": [
    "class CustomImageDataset(Dataset):\n",
    "    def __init__(self, images, labels, transform=None):\n",
    "        self.images = images\n",
    "        self.labels = labels\n",
    "        self.transform = transform\n",
    "\n",
    "    def __len__(self):\n",
    "        return len(self.images)\n",
    "\n",
    "    def __getitem__(self, idx):\n",
    "        img = self.images[idx].astype(np.uint8)\n",
    "        label = self.labels[idx]\n",
    "        if self.transform:\n",
    "            img = self.transform(img)\n",
    "        return img, label\n",
    "\n",
    "# Load the data(images)\n",
    "x_npz = np.load(\"../../data/x_images_arrays.npz\")\n",
    "X = x_npz[\"arr_0\"]\n",
    "y_npz = np.load(\"../../data/y_labels_arrays.npz\")\n",
    "Y = y_npz[\"arr_0\"]\n",
    "\n",
    "print(\"x = \", np.array(X).shape)\n",
    "print(\"Y = \", np.array(Y).shape)\n",
    "\n",
    "# Separete the data into train and test sets\n",
    "# 80% train, 20% test\n",
    "x_train_old, x_test, y_train_old, y_test = train_test_split(X, Y, test_size=0.2,random_state=1, stratify=Y)\n",
    "\n",
    "x_train_aux = np.load(\"../../data/x_images_arrays_under_train.npz\")\n",
    "x_train = x_train_aux[\"arr_0\"]\n",
    "y_train_aux = np.load(\"../../data/y_labels_arrays_under_train.npz\")\n",
    "y_train = y_train_aux[\"arr_0\"]\n",
    "\n",
    "#x_test, x_val, y_test, y_val = train_test_split(x_temp, y_temp, test_size=0.5, random_state=1, stratify=y_temp)\n",
    "\n",
    "print(\"\\nForma dos dados de treino:\", np.array(x_train).shape) # (3045, 128, 128, 3)\n",
    "print(\"Distribuição train antes:\", Counter(y_train)) #np.int64(0): 2435, np.int64(2): 402, np.int64(1): 208\n",
    "#print(np.array(x_val).shape)\n",
    "print(\"Forma dos dados de teste:\", np.array(x_test).shape) # (762, 128, 128, 3)\n",
    "print(\"Distribuição test antes:\", Counter(y_test)) #np.int64(0): 609, np.int64(2): 101, np.int64(1): 52\n",
    "\n",
    "# Transform the data to tensor\n",
    "# Define a transform\n",
    "transform = transforms.Compose([\n",
    "            #transforms.Resize((28, 28)),\n",
    "            transforms.ToPILImage(),\n",
    "            transforms.Grayscale(),\n",
    "            transforms.ToTensor(),\n",
    "            transforms.Normalize((0,), (1,))])\n",
    "\n",
    "# Apply the transform to the data\n",
    "dataset_train = CustomImageDataset(x_train, y_train, transform=transform)\n",
    "#dataset_val = CustomImageDataset(x_val, y_val, transform=transform)\n",
    "dataset_test = CustomImageDataset(x_test, y_test, transform=transform)\n",
    "\n",
    "img, label = dataset_train[0]\n",
    "print(\"\\nForma do img e label:\", img.shape, label) # [grayscale=1, size=128, size=128] label=0 ('Nothing')\n",
    "print(\"Quantidade dados de treino:\", dataset_train.__len__()) # 610 images\n",
    "#print(dataset_val.__len__()) # 0 images\n",
    "print(\"Quantidade dados de teste:\", dataset_test.__len__()) # 762 images\n",
    "\n",
    "# Load into the DataLoader\n",
    "batch_size = 32\n",
    "\n",
    "train_loader = DataLoader(dataset_train, batch_size=batch_size, shuffle=True)\n",
    "#val_loader = DataLoader(dataset_val, batch_size=batch_size, shuffle=True)\n",
    "test_loader = DataLoader(dataset_test, batch_size=batch_size, shuffle=True)\n"
   ]
  },
  {
   "cell_type": "markdown",
   "id": "fa8d65e3",
   "metadata": {},
   "source": [
    "# NETWORK"
   ]
  },
  {
   "cell_type": "markdown",
   "id": "f83b2a64",
   "metadata": {},
   "source": [
    "### Define"
   ]
  },
  {
   "cell_type": "code",
   "execution_count": 5,
   "id": "13639607",
   "metadata": {},
   "outputs": [],
   "source": [
    "# Define the network\n",
    "\n",
    "# Already defined in the previous cell\n",
    "# batch_size = 32\n",
    "# train_loader / val_loader / test_loader\n",
    "num_steps = 50\n",
    "\n",
    "dtype = torch.float\n",
    "# Use GPU if available\n",
    "device = torch.device(\"cuda\") if torch.cuda.is_available() else torch.device(\"mps\") if torch.backends.mps.is_available() else torch.device(\"cpu\")\n",
    "\n",
    "# Network Architecture \n",
    "num_inputs = 128*128\n",
    "num_hidden = 1000\n",
    "num_outputs = 3 # classes\n",
    "\n",
    "# Temporal Dynamics\n",
    "# num_steps = 25\n",
    "#beta = 0.95\n",
    "\n",
    "# Define Network\n",
    "class Net(nn.Module):\n",
    "    def __init__(self): \n",
    "        super().__init__()\n",
    "\n",
    "        # Initialize layers\n",
    "        self.fc1 = nn.Linear(num_inputs, num_hidden)\n",
    "        self.relu1 = nn.ReLU()\n",
    "        self.fc2 = nn.Linear(num_hidden, num_outputs)\n",
    "        #self.relu2 = nn.ReLU()\n",
    "\n",
    "    def forward(self, x):\n",
    "        # Flatten input if necessary\n",
    "        x = x.view(-1, num_inputs)\n",
    "        \n",
    "        # Forward pass through layers\n",
    "        x = self.fc1(x)\n",
    "        x = self.relu1(x)\n",
    "        x = self.fc2(x)\n",
    "        #x = self.relu2(x) # tentar tirar\n",
    "        #output = F.log_softmax(x, dim=1)  # Saída com log_softmax\n",
    "        return x\n",
    "\n",
    "# Load the network onto CUDA if available\n",
    "net = Net().to(device)"
   ]
  },
  {
   "cell_type": "code",
   "execution_count": 6,
   "id": "10e85988",
   "metadata": {},
   "outputs": [],
   "source": [
    "# Metrics\n",
    "# Accuracy\n",
    "# pass data into the network, sum the spikes over time\n",
    "# and compare the neuron with the highest number of spikes\n",
    "# with the target\n",
    "\n",
    "def print_batch_accuracy(data, targets, train=False):\n",
    "    output = net(data)\n",
    "    _, idx = output.max(1)\n",
    "    acc = np.mean((targets == idx).detach().cpu().numpy())\n",
    "\n",
    "    if train:\n",
    "        print(f\"Train set accuracy for a single minibatch: {acc*100:.2f}%\")\n",
    "    else:\n",
    "        print(f\"Test set accuracy for a single minibatch: {acc*100:.2f}%\")\n",
    "\n",
    "def train_printer():\n",
    "    print(f\"Epoch {epoch}, Iteration {iter_counter}\")\n",
    "    print(f\"Train Set Loss: {loss_hist[counter]:.2f}\")\n",
    "    print(f\"Test Set Loss: {test_loss_hist[counter]:.2f}\")\n",
    "    print_batch_accuracy(data, targets, train=True)\n",
    "    print_batch_accuracy(test_data, test_targets, train=False)\n",
    "    print(\"\\n\")\n",
    "\n",
    "# loss\n",
    "loss = nn.CrossEntropyLoss()\n",
    "\n",
    "# optimizer\n",
    "optimizer = torch.optim.Adam(net.parameters(), lr=5e-4, betas=(0.9, 0.999))"
   ]
  },
  {
   "cell_type": "markdown",
   "id": "19480136",
   "metadata": {},
   "source": [
    "### Training Loop"
   ]
  },
  {
   "cell_type": "code",
   "execution_count": 7,
   "id": "be3e750c",
   "metadata": {},
   "outputs": [
    {
     "name": "stdout",
     "output_type": "stream",
     "text": [
      "Epoch 0, Iteration 0\n",
      "Train Set Loss: 1.14\n",
      "Test Set Loss: 2.23\n",
      "Train set accuracy for a single minibatch: 40.62%\n",
      "Test set accuracy for a single minibatch: 90.62%\n",
      "\n",
      "\n",
      "Epoch 1, Iteration 0\n",
      "Train Set Loss: 1.08\n",
      "Test Set Loss: 0.85\n",
      "Train set accuracy for a single minibatch: 40.62%\n",
      "Test set accuracy for a single minibatch: 68.75%\n",
      "\n",
      "\n",
      "Epoch 2, Iteration 0\n",
      "Train Set Loss: 1.06\n",
      "Test Set Loss: 1.48\n",
      "Train set accuracy for a single minibatch: 43.75%\n",
      "Test set accuracy for a single minibatch: 15.62%\n",
      "\n",
      "\n",
      "Epoch 3, Iteration 0\n",
      "Train Set Loss: 1.21\n",
      "Test Set Loss: 1.15\n",
      "Train set accuracy for a single minibatch: 43.75%\n",
      "Test set accuracy for a single minibatch: 28.12%\n",
      "\n",
      "\n"
     ]
    }
   ],
   "source": [
    "# Training loop\n",
    "num_epochs = 4\n",
    "loss_hist = []\n",
    "test_loss_hist = []\n",
    "counter = 0\n",
    "\n",
    "# Outer training loop\n",
    "for epoch in range(num_epochs):\n",
    "    iter_counter = 0\n",
    "    train_batch = iter(train_loader)\n",
    "    \n",
    "    # Minibatch training loop\n",
    "    for data, targets in train_batch:\n",
    "        #print(epoch, iter_counter, counter)\n",
    "        data = data.to(device)\n",
    "        targets = targets.to(device)\n",
    "\n",
    "        # forward pass\n",
    "        net.train()\n",
    "        #spike_data = spikegen.latency(data, num_steps=num_steps, tau=1, threshold=0.001, clip=True, normalize=True, linear=True)\n",
    "        #print(f\"Spike data size (latency 2): {spike_data.size()}\")\n",
    "\n",
    "        output = net(data)\n",
    "\n",
    "        # Calculate loss\n",
    "        loss_val = loss(output, targets)\n",
    "\n",
    "        # Gradient calculation + weight update\n",
    "        optimizer.zero_grad()\n",
    "        loss_val.backward()\n",
    "        optimizer.step()\n",
    "\n",
    "        # Store loss history for future plotting\n",
    "        loss_hist.append(loss_val.item())\n",
    "\n",
    "        # Test set\n",
    "        with torch.no_grad():\n",
    "            net.eval()\n",
    "            test_data, test_targets = next(iter(test_loader))\n",
    "            test_data = test_data.to(device)\n",
    "            test_targets = test_targets.to(device)\n",
    "\n",
    "            # Test set forward pass\n",
    "            test_output = net(test_data)\n",
    "\n",
    "            # Test set loss\n",
    "            test_loss = loss(test_output, test_targets)\n",
    "            test_loss_hist.append(test_loss.item())\n",
    "\n",
    "            # Print train/test loss/accuracy\n",
    "            if counter % 32 == 0:\n",
    "                train_printer()\n",
    "            counter += 1\n",
    "            iter_counter += 1"
   ]
  },
  {
   "cell_type": "code",
   "execution_count": 11,
   "id": "646ed264",
   "metadata": {},
   "outputs": [
    {
     "name": "stdout",
     "output_type": "stream",
     "text": [
      "Modelo salvo com sucesso em: ../../models/ann_full_4_under.pth\n"
     ]
    }
   ],
   "source": [
    "# Código extra para salvar o modelo\n",
    "PATH = '../../models/ann_full_4_under.pth'\n",
    "torch.save(net.state_dict(), PATH)\n",
    "print(f\"Modelo salvo com sucesso em: {PATH}\")"
   ]
  },
  {
   "cell_type": "markdown",
   "id": "7f90cec0",
   "metadata": {},
   "source": [
    "### Metrics"
   ]
  },
  {
   "cell_type": "code",
   "execution_count": 8,
   "id": "642caf0e",
   "metadata": {},
   "outputs": [
    {
     "data": {
      "image/png": "[encoded data removed]",
      "text/plain": [
       "<Figure size 1000x500 with 1 Axes>"
      ]
     },
     "metadata": {},
     "output_type": "display_data"
    }
   ],
   "source": [
    "# Plot Loss\n",
    "fig = plt.figure(facecolor=\"w\", figsize=(10, 5))\n",
    "plt.plot(loss_hist)\n",
    "plt.plot(test_loss_hist)\n",
    "plt.title(\"Loss Curves\")\n",
    "plt.legend([\"Train Loss\", \"Test Loss\"])\n",
    "plt.xlabel(\"Iteration\")\n",
    "plt.ylabel(\"Loss\")\n",
    "plt.show()"
   ]
  },
  {
   "cell_type": "code",
   "execution_count": 9,
   "id": "1b27029f",
   "metadata": {},
   "outputs": [
    {
     "name": "stdout",
     "output_type": "stream",
     "text": [
      "Total correctly classified test set images: 446/762\n",
      "Test Set Accuracy: 58.53%\n",
      "Precision: 0.34\n",
      "Recall: 0.38\n",
      "F1-score: 0.33\n",
      "\n",
      "Matriz de Confusão:\n",
      "[[398   1 210]\n",
      " [ 25   0  27]\n",
      " [ 52   1  48]]\n"
     ]
    }
   ],
   "source": [
    "# Função para calcular métricas\n",
    "def calculate_metrics(y_true, y_pred):\n",
    "    precision, recall, f1, _ = precision_recall_fscore_support(y_true, y_pred, average='macro') # average = 'weighted' | 'micro' | 'macro'\n",
    "    return precision, recall, f1\n",
    "\n",
    "# Listas para armazenar previsões e rótulos verdadeiros\n",
    "all_preds = []\n",
    "all_targets = []\n",
    "\n",
    "# Avaliação do modelo\n",
    "total = 0\n",
    "correct = 0\n",
    "\n",
    "with torch.no_grad():\n",
    "    net.eval()\n",
    "    for data_2, targets_2 in test_loader:\n",
    "        data_2 = data_2.to(device)\n",
    "        targets_2 = targets_2.to(device)\n",
    "\n",
    "        # Test set forward pass\n",
    "        test_output_2 = net(data_2)\n",
    "\n",
    "        # Previsões\n",
    "        _, predicted = test_output_2.max(1)\n",
    "        \n",
    "        # Acumular acurácia\n",
    "        total += targets_2.size(0)\n",
    "        correct += (predicted == targets_2).sum().item()\n",
    "\n",
    "        # Armazenar previsões e rótulos para F1 e matriz de confusão\n",
    "        all_preds.extend(predicted.cpu().numpy())\n",
    "        all_targets.extend(targets_2.cpu().numpy())\n",
    "\n",
    "# Calcular acurácia\n",
    "print(f\"Total correctly classified test set images: {correct}/{total}\")\n",
    "print(f\"Test Set Accuracy: {100 * correct / total:.2f}%\")\n",
    "\n",
    "# Calcular precisão, recall e F1-score\n",
    "precision, recall, f1 = calculate_metrics(all_targets, all_preds) \n",
    "print(f\"Precision: {precision:.2f}\")\n",
    "print(f\"Recall: {recall:.2f}\")\n",
    "print(f\"F1-score: {f1:.2f}\")\n",
    "\n",
    "# Calcular e exibir a matriz de confusão\n",
    "conf_matrix = confusion_matrix(all_targets, all_preds)\n",
    "print(\"\\nMatriz de Confusão:\")\n",
    "print(conf_matrix)"
   ]
  },
  {
   "cell_type": "code",
   "execution_count": 10,
   "id": "795d5841",
   "metadata": {},
   "outputs": [
    {
     "data": {
      "image/png": "[encoded data removed]",
      "text/plain": [
       "<Figure size 800x600 with 2 Axes>"
      ]
     },
     "metadata": {},
     "output_type": "display_data"
    }
   ],
   "source": [
    "import seaborn as sns\n",
    "\n",
    "plt.figure(figsize=(8, 6))\n",
    "sns.heatmap(conf_matrix, annot=True, fmt='d', cmap='Blues')\n",
    "plt.xlabel('Predicted')\n",
    "plt.ylabel('True')\n",
    "plt.title('Matriz de Confusão')\n",
    "plt.show()"
   ]
  }
 ],
 "metadata": {
  "kernelspec": {
   "display_name": "TCC_25",
   "language": "python",
   "name": "python3"
  },
  "language_info": {
   "codemirror_mode": {
    "name": "ipython",
    "version": 3
   },
   "file_extension": ".py",
   "mimetype": "text/x-python",
   "name": "python",
   "nbconvert_exporter": "python",
   "pygments_lexer": "ipython3",
   "version": "3.11.0"
  }
 },
 "nbformat": 4,
 "nbformat_minor": 5
}
